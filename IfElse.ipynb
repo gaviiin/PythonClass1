{
 "cells": [
  {
   "cell_type": "code",
   "execution_count": 5,
   "metadata": {},
   "outputs": [
    {
     "name": "stdout",
     "output_type": "stream",
     "text": [
      "What is your income? 350000\n",
      "Your taxed income is 245000.00\n"
     ]
    }
   ],
   "source": [
    "income = float(input(\"What is your income? \"))\n",
    "\n",
    "if income >= 400000:\n",
    "    income = income * 0.6\n",
    "elif income >= 300000:\n",
    "    income = income * 0.7\n",
    "elif income >= 200000:\n",
    "    income = income * 0.8\n",
    "elif income >= 100000:\n",
    "    income = income * 0.9\n",
    "else:\n",
    "    income = income * 0.92\n",
    "\n",
    "#income = round(income, 2)\n",
    "print(\"Your taxed income is $\" + \"%.2f\" % income)"
   ]
  },
  {
   "cell_type": "code",
   "execution_count": null,
   "metadata": {},
   "outputs": [],
   "source": []
  }
 ],
 "metadata": {
  "kernelspec": {
   "display_name": "Python 3",
   "language": "python",
   "name": "python3"
  },
  "language_info": {
   "codemirror_mode": {
    "name": "ipython",
    "version": 3
   },
   "file_extension": ".py",
   "mimetype": "text/x-python",
   "name": "python",
   "nbconvert_exporter": "python",
   "pygments_lexer": "ipython3",
   "version": "3.8.3"
  }
 },
 "nbformat": 4,
 "nbformat_minor": 4
}
